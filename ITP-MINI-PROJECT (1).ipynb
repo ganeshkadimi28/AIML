{
 "cells": [
  {
   "cell_type": "markdown",
   "id": "a5cdc428",
   "metadata": {},
   "source": [
    "#### Q1. Create a Dictionary of lists to store the information of shipments given in the table"
   ]
  },
  {
   "cell_type": "code",
   "execution_count": 29,
   "id": "e6455dc0",
   "metadata": {},
   "outputs": [
    {
     "name": "stdout",
     "output_type": "stream",
     "text": [
      "{101: [1, 3, '14-03-2020', '25-03-2020', 'Area1', 'Area6', 'Delivered', 198], 102: [4, 1, '18-06-2020', '09-07-2020', 'Area2', 'Area4', 'Delivered', 275], 103: [2, 3, '01-12-2020', 'Null', 'Area5', 'Area1', 'In-Transit', 200], 104: [1, 5, '23-06-2020', '25-06-2020', 'Area1', 'Area4', 'Delivered', 314], 105: [3, 4, '29-08-2020', '10-09-2020', 'Area5', 'Area3', 'Delivered', 275], 106: [5, 2, '28-06-2020', 'Null', 'Area3', 'Area1', 'In-Transit', 270]}\n"
     ]
    }
   ],
   "source": [
    "# 1Creating a dictionary of delivery related data\n",
    "#2Keys are shipment id\n",
    "#3Values are (sender,receiver,start date,delivery date,sender location,receiver location,delivery status,shipping cost)\n",
    "delivery={101:[1, 3, '14-03-2020','25-03-2020','Area1','Area6','Delivered',198],102:[4,1,'18-06-2020','09-07-2020','Area2','Area4','Delivered',275],103:[2,3,'01-12-2020','Null','Area5','Area1','In-Transit',200],104:[1,5,'23-06-2020','25-06-2020','Area1','Area4','Delivered',314],105:[3,4,'29-08-2020','10-09-2020','Area5','Area3','Delivered',275],106:[5,2,'28-06-2020','Null','Area3','Area1','In-Transit',270]}\n",
    "print(delivery)"
   ]
  },
  {
   "cell_type": "markdown",
   "id": "ea322ceb",
   "metadata": {},
   "source": [
    "#### Q2. Create a Dictionary to store the information of clients given in the table."
   ]
  },
  {
   "cell_type": "code",
   "execution_count": 12,
   "id": "b81b3174",
   "metadata": {},
   "outputs": [
    {
     "name": "stdout",
     "output_type": "stream",
     "text": [
      "{1: 'Philip', 2: 'Omega', 3: 'Ramya', 4: 'Romesh', 5: 'John'}\n"
     ]
    }
   ],
   "source": [
    "#1Creating a dictionary for client data\n",
    "#2Keys are client ids\n",
    "#3 values are client names\n",
    "client={1:'Philip',2:'Omega',3:'Ramya',4:'Romesh',5:'John'}\n",
    "print(client)"
   ]
  },
  {
   "cell_type": "markdown",
   "id": "24442451",
   "metadata": {},
   "source": [
    "#### Q3. Write a code to replace clients' IDs with their respective names in the shipment dictionary using a loop and dictionary comprehension."
   ]
  },
  {
   "cell_type": "code",
   "execution_count": 30,
   "id": "a91b89ea",
   "metadata": {},
   "outputs": [
    {
     "name": "stdout",
     "output_type": "stream",
     "text": [
      "{101: ['Philip', 'Ramya', '14-03-2020', '25-03-2020', 'Area1', 'Area6', 'Delivered', 198], 102: ['Romesh', 'Philip', '18-06-2020', '09-07-2020', 'Area2', 'Area4', 'Delivered', 275], 103: ['Omega', 'Ramya', '01-12-2020', 'Null', 'Area5', 'Area1', 'In-Transit', 200], 104: ['Philip', 'John', '23-06-2020', '25-06-2020', 'Area1', 'Area4', 'Delivered', 314], 105: ['Ramya', 'Romesh', '29-08-2020', '10-09-2020', 'Area5', 'Area3', 'Delivered', 275], 106: ['John', 'Omega', '28-06-2020', 'Null', 'Area3', 'Area1', 'In-Transit', 270]}\n"
     ]
    }
   ],
   "source": [
    "delivery={101:[1, 3, '14-03-2020','25-03-2020','Area1','Area6','Delivered',198],102:[4,1,'18-06-2020','09-07-2020','Area2','Area4','Delivered',275],103:[2,3,'01-12-2020','Null','Area5','Area1','In-Transit',200],104:[1,5,'23-06-2020','25-06-2020','Area1','Area4','Delivered',314],105:[3,4,'29-08-2020','10-09-2020','Area5','Area3','Delivered',275],106:[5,2,'28-06-2020','Null','Area3','Area1','In-Transit',270]}\n",
    "newdelivery=delivery.copy()\n",
    "#1Taking copy of delivery store in new dictionary newdelivery\n",
    "client={1:'Philip',2:'Omega',3:'Ramya',4:'Romesh',5:'John'}\n",
    "#2 initialising client and delivery\n",
    "for i,j in newdelivery.items():\n",
    "#Taking i as newdelivery keys and j as newdelivery items\n",
    "    for l,m in client.items():\n",
    "#taking l as client keys and m as client values\n",
    "        if newdelivery[i][0]==l:\n",
    "#checking sender id is equal to client id\n",
    "            newdelivery[i][0]=client[l]\n",
    "#Replacng the sender id with sender name\n",
    "        if newdelivery[i][1]==l:\n",
    "#checking receiver id with client id\n",
    "            newdelivery[i][1]=client[l]\n",
    "#replacing the receiver id with client name\n",
    "print(newdelivery)"
   ]
  },
  {
   "cell_type": "code",
   "execution_count": null,
   "id": "939343ca",
   "metadata": {},
   "outputs": [],
   "source": []
  },
  {
   "cell_type": "code",
   "execution_count": null,
   "id": "e588e6d1",
   "metadata": {},
   "outputs": [],
   "source": []
  },
  {
   "cell_type": "markdown",
   "id": "4b185e61",
   "metadata": {},
   "source": [
    "#### Q4. Print all shipment details that are sent by Phillip"
   ]
  },
  {
   "cell_type": "code",
   "execution_count": 48,
   "id": "e88994c7",
   "metadata": {},
   "outputs": [
    {
     "name": "stdout",
     "output_type": "stream",
     "text": [
      "[['Philip', 'Ramya', '14-03-2020', '25-03-2020', 'Area1', 'Area6', 'Delivered', 198], ['Philip', 'John', '23-06-2020', '25-06-2020', 'Area1', 'Area4', 'Delivered', 314]]\n"
     ]
    }
   ],
   "source": [
    "newdelivery={101: ['Philip', 'Ramya', '14-03-2020', '25-03-2020', 'Area1', 'Area6', 'Delivered', 198], 102: ['Romesh', 'Philip', '18-06-2020', '09-07-2020', 'Area2', 'Area4', 'Delivered', 275], 103: ['Omega', 'Ramya', '01-12-2020', 'Null', 'Area5', 'Area1', 'In-Transit', 200], 104: ['Philip', 'John', '23-06-2020', '25-06-2020', 'Area1', 'Area4', 'Delivered', 314], 105: ['Ramya', 'Romesh', '29-08-2020', '10-09-2020', 'Area5', 'Area3', 'Delivered', 275], 106: ['John', 'Omega', '28-06-2020', 'Null', 'Area3', 'Area1', 'In-Transit', 270]}\n",
    "#initialising dictionary\n",
    "newdelvalues=[j for j in newdelivery.values()]\n",
    "#Creating a list with dictionary values\n",
    "sentbyphilip=[i for i in newdelvalues if i[0]=='Philip']\n",
    "#filtering the shipments sent by philip\n",
    "print(sentbyphilip)"
   ]
  },
  {
   "cell_type": "markdown",
   "id": "0bf067a2",
   "metadata": {},
   "source": [
    "#### Q5. Print all shipment details that are received by Ramya"
   ]
  },
  {
   "cell_type": "code",
   "execution_count": 49,
   "id": "d2a6036c",
   "metadata": {},
   "outputs": [
    {
     "name": "stdout",
     "output_type": "stream",
     "text": [
      "[['Philip', 'Ramya', '14-03-2020', '25-03-2020', 'Area1', 'Area6', 'Delivered'], ['Omega', 'Ramya', '01-12-2020', 'Null', 'Area5', 'Area1', 'In-Transit']]\n"
     ]
    }
   ],
   "source": [
    "newdelivery={101: ['Philip', 'Ramya', '14-03-2020', '25-03-2020', 'Area1', 'Area6', 'Delivered', 198], 102: ['Romesh', 'Philip', '18-06-2020', '09-07-2020', 'Area2', 'Area4', 'Delivered', 275], 103: ['Omega', 'Ramya', '01-12-2020', 'Null', 'Area5', 'Area1', 'In-Transit', 200], 104: ['Philip', 'John', '23-06-2020', '25-06-2020', 'Area1', 'Area4', 'Delivered', 314], 105: ['Ramya', 'Romesh', '29-08-2020', '10-09-2020', 'Area5', 'Area3', 'Delivered', 275], 106: ['John', 'Omega', '28-06-2020', 'Null', 'Area3', 'Area1', 'In-Transit', 270]}\n",
    "#initialize dictionary\n",
    "newdelvalues=[j for j in newdelivery.values()]\n",
    "#creating a list with dictionary values\n",
    "recbyramya=[i[:-1] for i in newdelvalues if i[1]=='Ramya']\n",
    "#filtering the shipments received by ramya\n",
    "print(recbyramya)"
   ]
  },
  {
   "cell_type": "markdown",
   "id": "e052bff6",
   "metadata": {},
   "source": [
    "#### Q6. Print all shipments which are in 'In-Transit' status"
   ]
  },
  {
   "cell_type": "code",
   "execution_count": 50,
   "id": "98a068dd",
   "metadata": {},
   "outputs": [
    {
     "name": "stdout",
     "output_type": "stream",
     "text": [
      "[['Omega', 'Ramya', '01-12-2020', 'Null', 'Area5', 'Area1', 'In-Transit'], ['John', 'Omega', '28-06-2020', 'Null', 'Area3', 'Area1', 'In-Transit']]\n"
     ]
    }
   ],
   "source": [
    "newdelivery={101: ['Philip', 'Ramya', '14-03-2020', '25-03-2020', 'Area1', 'Area6', 'Delivered', 198], 102: ['Romesh', 'Philip', '18-06-2020', '09-07-2020', 'Area2', 'Area4', 'Delivered', 275], 103: ['Omega', 'Ramya', '01-12-2020', 'Null', 'Area5', 'Area1', 'In-Transit', 200], 104: ['Philip', 'John', '23-06-2020', '25-06-2020', 'Area1', 'Area4', 'Delivered', 314], 105: ['Ramya', 'Romesh', '29-08-2020', '10-09-2020', 'Area5', 'Area3', 'Delivered', 275], 106: ['John', 'Omega', '28-06-2020', 'Null', 'Area3', 'Area1', 'In-Transit', 270]}\n",
    "#Initialising newdelivery(dictionary)\n",
    "newdelvalues=[j for j in newdelivery.values()]\n",
    "#Taking values of new delivery\n",
    "shipintransit=[i[0:-1] for i in newdelvalues if i[-2]=='In-Transit']\n",
    "#Checking the deliveries which are in in transition\n",
    "print(shipintransit)"
   ]
  },
  {
   "cell_type": "code",
   "execution_count": null,
   "id": "b708f04e",
   "metadata": {},
   "outputs": [],
   "source": []
  },
  {
   "cell_type": "markdown",
   "id": "996e6d8d",
   "metadata": {},
   "source": [
    "#### Q7. Print all shipments which are delivered within 7 days of courier Start date"
   ]
  },
  {
   "cell_type": "code",
   "execution_count": 52,
   "id": "af9ce174",
   "metadata": {},
   "outputs": [
    {
     "name": "stdout",
     "output_type": "stream",
     "text": [
      "[['Philip', 'John', '23-06-2020', '25-06-2020', 'Area1', 'Area4', 'Delivered']]\n"
     ]
    }
   ],
   "source": [
    "newdelivery={101: ['Philip', 'Ramya', '14-03-2020', '25-03-2020', 'Area1', 'Area6', 'Delivered', 198], 102: ['Romesh', 'Philip', '18-06-2020', '09-07-2020', 'Area2', 'Area4', 'Delivered', 275], 103: ['Omega', 'Ramya', '01-12-2020', 'Null', 'Area5', 'Area1', 'In-Transit', 200], 104: ['Philip', 'John', '23-06-2020', '25-06-2020', 'Area1', 'Area4', 'Delivered', 314], 105: ['Ramya', 'Romesh', '29-08-2020', '10-09-2020', 'Area5', 'Area3', 'Delivered', 275], 106: ['John', 'Omega', '28-06-2020', 'Null', 'Area3', 'Area1', 'In-Transit', 270]}\n",
    "#initialising the shipment dictionary\n",
    "shipin7d=[]\n",
    "#Taking eampty list to insert values of shipment in 7 days to that\n",
    "from datetime import*\n",
    "#importing date and time module\n",
    "for i in newdelivery.keys():\n",
    "#Running for loop to check the shipments in 7 days   \n",
    "    if newdelivery[i][3]!='Null' and (datetime.strptime(newdelivery[i][3],\"%d-%m-%Y\")-datetime.strptime(newdelivery[i][2],\"%d-%m-%Y\")).days<=7:\n",
    "#taking condition the delivery date is not equal to null and checking the no of days less than 7 for shipment        \n",
    "        shipin7d.append(newdelivery[i][:-1])\n",
    "#Appending the valus which are deliverd in less than 7 days\n",
    "print(shipin7d)"
   ]
  },
  {
   "cell_type": "code",
   "execution_count": null,
   "id": "073b474f",
   "metadata": {},
   "outputs": [],
   "source": []
  },
  {
   "cell_type": "markdown",
   "id": "d9244884",
   "metadata": {},
   "source": [
    "#### Q8. Print all shipments which are delivered after 15 days of courier start date or have not yet been delivered."
   ]
  },
  {
   "cell_type": "code",
   "execution_count": 55,
   "id": "38d11385",
   "metadata": {},
   "outputs": [
    {
     "name": "stdout",
     "output_type": "stream",
     "text": [
      "[[4, 1, '18-06-2020', '09-07-2020', 'Area2', 'Area4', 'Delivered'], [2, 3, '01-12-2020', 'Null', 'Area5', 'Area1', 'In-Transit'], [5, 2, '28-06-2020', 'Null', 'Area3', 'Area1', 'In-Transit']]\n"
     ]
    }
   ],
   "source": [
    "delivery={101:[1, 3, '14-03-2020','25-03-2020','Area1','Area6','Delivered',198],102:[4,1,'18-06-2020','09-07-2020','Area2','Area4','Delivered',275],103:[2,3,'01-12-2020','Null','Area5','Area1','In-Transit',200],104:[1,5,'23-06-2020','25-06-2020','Area1','Area4','Delivered',314],105:[3,4,'29-08-2020','10-09-2020','Area5','Area3','Delivered',275],106:[5,2,'28-06-2020','Null','Area3','Area1','In-Transit',270]}\n",
    "#initialising dictionary delivery\n",
    "delaydelivery=[]\n",
    "#Creating eampty list for delayed deliveries\n",
    "from datetime import*\n",
    "#importing datetime module\n",
    "for i in delivery.keys():\n",
    "#using for loop to take keys in delivery dictionary   \n",
    "    if delivery[i][3]=='Null' or (datetime.strptime(delivery[i][3],\"%d-%m-%Y\")-datetime.strptime(delivery[i][2],\"%d-%m-%Y\")).days>15:\n",
    "#Using if to check the deliveris which are not delivered and deliveries shipped after 15 days        \n",
    "        delaydelivery.append(delivery[i][:-1])\n",
    "print(delaydelivery)"
   ]
  },
  {
   "cell_type": "code",
   "execution_count": null,
   "id": "7244a625",
   "metadata": {},
   "outputs": [],
   "source": []
  },
  {
   "cell_type": "code",
   "execution_count": null,
   "id": "284e6236",
   "metadata": {},
   "outputs": [],
   "source": []
  }
 ],
 "metadata": {
  "kernelspec": {
   "display_name": "Python 3 (ipykernel)",
   "language": "python",
   "name": "python3"
  },
  "language_info": {
   "codemirror_mode": {
    "name": "ipython",
    "version": 3
   },
   "file_extension": ".py",
   "mimetype": "text/x-python",
   "name": "python",
   "nbconvert_exporter": "python",
   "pygments_lexer": "ipython3",
   "version": "3.9.7"
  }
 },
 "nbformat": 4,
 "nbformat_minor": 5
}
